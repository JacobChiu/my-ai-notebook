{
 "cells": [
  {
   "cell_type": "code",
   "execution_count": 2,
   "id": "744d2cb0",
   "metadata": {},
   "outputs": [
    {
     "name": "stdout",
     "output_type": "stream",
     "text": [
      "Hello, Jupyter on VS Code!\n",
      "Python version: 3.9.0 (tags/v3.9.0:9cf6752, Oct  5 2020, 15:34:40) [MSC v.1927 64 bit (AMD64)]\n"
     ]
    }
   ],
   "source": [
    "import sys\n",
    "print(\"Hello, Jupyter on VS Code!\")\n",
    "print(\"Python version:\", sys.version)\n"
   ]
  },
  {
   "cell_type": "code",
   "execution_count": 3,
   "id": "378abf28",
   "metadata": {},
   "outputs": [
    {
     "data": {
      "text/html": [
       "<div>\n",
       "<style scoped>\n",
       "    .dataframe tbody tr th:only-of-type {\n",
       "        vertical-align: middle;\n",
       "    }\n",
       "\n",
       "    .dataframe tbody tr th {\n",
       "        vertical-align: top;\n",
       "    }\n",
       "\n",
       "    .dataframe thead th {\n",
       "        text-align: right;\n",
       "    }\n",
       "</style>\n",
       "<table border=\"1\" class=\"dataframe\">\n",
       "  <thead>\n",
       "    <tr style=\"text-align: right;\">\n",
       "      <th></th>\n",
       "      <th>A</th>\n",
       "      <th>B</th>\n",
       "      <th>C</th>\n",
       "    </tr>\n",
       "  </thead>\n",
       "  <tbody>\n",
       "    <tr>\n",
       "      <th>0</th>\n",
       "      <td>0</td>\n",
       "      <td>1</td>\n",
       "      <td>2</td>\n",
       "    </tr>\n",
       "    <tr>\n",
       "      <th>1</th>\n",
       "      <td>3</td>\n",
       "      <td>4</td>\n",
       "      <td>5</td>\n",
       "    </tr>\n",
       "    <tr>\n",
       "      <th>2</th>\n",
       "      <td>6</td>\n",
       "      <td>7</td>\n",
       "      <td>8</td>\n",
       "    </tr>\n",
       "  </tbody>\n",
       "</table>\n",
       "</div>"
      ],
      "text/plain": [
       "   A  B  C\n",
       "0  0  1  2\n",
       "1  3  4  5\n",
       "2  6  7  8"
      ]
     },
     "metadata": {},
     "output_type": "display_data"
    },
    {
     "name": "stdout",
     "output_type": "stream",
     "text": [
      "第一筆預測： [0]\n"
     ]
    },
    {
     "data": {
      "image/png": "[encoded data removed]",
      "text/plain": [
       "<Figure size 640x480 with 1 Axes>"
      ]
     },
     "metadata": {},
     "output_type": "display_data"
    }
   ],
   "source": [
    "import numpy as np\n",
    "import pandas as pd\n",
    "import matplotlib.pyplot as plt\n",
    "from sklearn import datasets, svm\n",
    "\n",
    "# 建立 DataFrame\n",
    "arr = np.arange(9).reshape(3, 3)\n",
    "df = pd.DataFrame(arr, columns=list(\"ABC\"))\n",
    "display(df)\n",
    "\n",
    "# 訓練並測試 SVM\n",
    "iris = datasets.load_iris()\n",
    "clf = svm.SVC().fit(iris.data, iris.target)\n",
    "print(\"第一筆預測：\", clf.predict([iris.data[0]]))\n",
    "\n",
    "# 繪圖\n",
    "plt.plot(arr[:,0], arr[:,1], marker='o')\n",
    "plt.title(\"Sample Plot\")\n",
    "plt.show()\n"
   ]
  },
  {
   "cell_type": "code",
   "execution_count": null,
   "id": "fcc08ded",
   "metadata": {},
   "outputs": [
    {
     "name": "stdout",
     "output_type": "stream",
     "text": [
      "Gaussian blur applied and saved as 'blurred_image.jpg'.\n"
     ]
    },
    {
     "ename": "",
     "evalue": "",
     "output_type": "error",
     "traceback": [
      "\u001b[1;31mThe Kernel crashed while executing code in the current cell or a previous cell. \n",
      "\u001b[1;31mPlease review the code in the cell(s) to identify a possible cause of the failure. \n",
      "\u001b[1;31mClick <a href='https://aka.ms/vscodeJupyterKernelCrash'>here</a> for more info. \n",
      "\u001b[1;31mView Jupyter <a href='command:jupyter.viewOutput'>log</a> for further details."
     ]
    }
   ],
   "source": [
    "#通過二維陣列實現圖片高斯模糊濾鏡\n",
    "import numpy as np\n",
    "import cv2     \n",
    "def gaussian_blur(image, kernel_size=5, sigma=1.0):\n",
    "    # 生成高斯核\n",
    "    kernel = cv2.getGaussianKernel(kernel_size, sigma)\n",
    "    kernel = np.outer(kernel, kernel)\n",
    "    \n",
    "    # 應用高斯模糊\n",
    "    blurred_image = cv2.filter2D(image, -1, kernel)\n",
    "    \n",
    "    return blurred_image\n",
    "# 讀取圖片\n",
    "image = cv2.imread('input_image.jpg')\n",
    "if image is None:\n",
    "    print(\"Error: Could not read the image.\")\n",
    "else:\n",
    "    # 應用高斯模糊\n",
    "    blurred_image = gaussian_blur(image, kernel_size=5, sigma=1.0)\n",
    "    \n",
    "    # 顯示原始圖片和模糊後的圖片\n",
    "    cv2.imshow('Original Image', image)\n",
    "    cv2.imshow('Blurred Image', blurred_image)\n",
    "    cv2.waitKey(0)\n",
    "    cv2.destroyAllWindows()    \n",
    "\n",
    "# 儲存模糊後的圖片\n",
    "cv2.imwrite('blurred_image.jpg', blurred_image)\n",
    "# 輸出結束\n",
    "# 提示\n",
    "print(\"Gaussian blur applied and saved as 'blurred_image.jpg'.\")\n",
    "# 結束\n",
    "exit()\n",
    "# 注意：請確保已安裝OpenCV庫，可以使用命令`pip install opencv-python`進行安裝。\n",
    "# 注意：請確保圖片路徑正確，並且圖片存在於指定的路徑中。\n"
   ]
  },
  {
   "cell_type": "code",
   "execution_count": 3,
   "id": "6c8edac5",
   "metadata": {},
   "outputs": [
    {
     "name": "stdout",
     "output_type": "stream",
     "text": [
      "Collecting opencv-python\n",
      "  Using cached opencv_python-4.11.0.86-cp37-abi3-win_amd64.whl.metadata (20 kB)\n",
      "Requirement already satisfied: numpy>=1.17.0 in c:\\users\\chiuy\\appdata\\local\\programs\\python\\python39\\lib\\site-packages (from opencv-python) (2.0.2)\n",
      "Using cached opencv_python-4.11.0.86-cp37-abi3-win_amd64.whl (39.5 MB)\n",
      "Installing collected packages: opencv-python\n",
      "Successfully installed opencv-python-4.11.0.86\n"
     ]
    }
   ],
   "source": [
    "# 在一个新 cell 里输入并执行：\n",
    "!pip install opencv-python\n"
   ]
  },
  {
   "cell_type": "code",
   "execution_count": 1,
   "id": "52031873",
   "metadata": {},
   "outputs": [
    {
     "name": "stdout",
     "output_type": "stream",
     "text": [
      "4.11.0\n"
     ]
    }
   ],
   "source": [
    "import cv2\n",
    "print(cv2.__version__)\n"
   ]
  }
 ],
 "metadata": {
  "kernelspec": {
   "display_name": "Python 3",
   "language": "python",
   "name": "python3"
  },
  "language_info": {
   "codemirror_mode": {
    "name": "ipython",
    "version": 3
   },
   "file_extension": ".py",
   "mimetype": "text/x-python",
   "name": "python",
   "nbconvert_exporter": "python",
   "pygments_lexer": "ipython3",
   "version": "3.9.0"
  }
 },
 "nbformat": 4,
 "nbformat_minor": 5
}
